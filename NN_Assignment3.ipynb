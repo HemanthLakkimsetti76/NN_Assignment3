{
 "cells": [
  {
   "cell_type": "code",
   "execution_count": 12,
   "id": "fc98939b-ad6f-4ce3-aa2a-3ccc85abb7a4",
   "metadata": {},
   "outputs": [
    {
     "name": "stdout",
     "output_type": "stream",
     "text": [
      "Full Time Employees\n",
      "Average salary: 200000.0\n"
     ]
    }
   ],
   "source": [
    "#QUESTION 1\n",
    "#create a class employee\n",
    "class Employee:\n",
    "    #create a datamember to count the no.of employees\n",
    "    no_of_employees = 0\n",
    "\n",
    "    #create a constructor to initialize name,family,salary,department\n",
    "    def __init__(self, name, family_name, salary, department):\n",
    "        self.__name = name\n",
    "        self.__family_name = family_name\n",
    "        self.salary = salary\n",
    "        self.__department = department\n",
    "        Employee.no_of_employees += 1\n",
    "\n",
    "\n",
    "    #create a function to average salary\n",
    "    def average_salary(employees):\n",
    "        sum = 0\n",
    "        for employee in employees:\n",
    "            sum += employee.salary\n",
    "        return sum / Employee.no_of_employees\n",
    "    \n",
    "\n",
    "#create a fulltime emlpoyee class and it should inherit the properties of Employee class\n",
    "class FulltimeEmployee(Employee) :\n",
    "\n",
    "    def __init__(self, name, family_name, salary, department):\n",
    "        super().__init__(name, family_name, salary, department)\n",
    "\n",
    "    def full_time(self):\n",
    "        print(\"Full Time Employees\")\n",
    "    \n",
    "\n",
    "#create the instances of Fulltime Employee class and employee class and call their member functions\n",
    "def main():\n",
    "    employees = []\n",
    "    fte1 = FulltimeEmployee(\"Hemanth\", \"Lakkimsetti\", 100000, \"CS\")\n",
    "    fte1.full_time()\n",
    "    employees.append(fte1)\n",
    "    fte2 = FulltimeEmployee(\"Abhi\", \"Varma\", 300000, \"DS\")\n",
    "    employees.append(fte2)\n",
    "    emp1 = Employee(\"Pavan\", \"Varma\", 250000, \"CIS\")\n",
    "    employees.append(emp1)\n",
    "    emp2 = Employee(\"Sai\", \"Kumar\", 150000, \"BD\")\n",
    "    employees.append(emp2)\n",
    "    print(\"Average salary:\", FulltimeEmployee.average_salary(employees))\n",
    "\n",
    "\n",
    "if __name__ == \"__main__\":\n",
    "    main()"
   ]
  },
  {
   "cell_type": "code",
   "execution_count": 6,
   "id": "0e2d3bf8-da18-4c45-aa04-79eee3ce7695",
   "metadata": {},
   "outputs": [
    {
     "name": "stdout",
     "output_type": "stream",
     "text": [
      "Original array:\n",
      "[17.63588205 13.53197962  7.44530998 14.28574724 13.04476079 19.04042292\n",
      " 15.18934316  9.39306494 18.35421962 16.2411306   1.94798656 13.54206818\n",
      "  7.01384139  7.97867988  3.35666172 14.93712166 17.89527816 18.71938475\n",
      "  8.43438308 15.70833422]\n",
      "Reshaped Array: \n",
      "[[17.63588205 13.53197962  7.44530998 14.28574724 13.04476079]\n",
      " [19.04042292 15.18934316  9.39306494 18.35421962 16.2411306 ]\n",
      " [ 1.94798656 13.54206818  7.01384139  7.97867988  3.35666172]\n",
      " [14.93712166 17.89527816 18.71938475  8.43438308 15.70833422]]\n",
      "Maximum value replaced by 0:\n",
      "[[ 0.         13.53197962  7.44530998 14.28574724 13.04476079]\n",
      " [ 0.         15.18934316  9.39306494 18.35421962 16.2411306 ]\n",
      " [ 1.94798656  0.          7.01384139  7.97867988  3.35666172]\n",
      " [14.93712166 17.89527816  0.          8.43438308 15.70833422]]\n"
     ]
    }
   ],
   "source": [
    "#QUESTION2 \n",
    "#create a randomm vector of size 20 having only float in the range 1-20\n",
    "import numpy as np\n",
    "x=np.random.uniform(1,20,20)\n",
    "print(\"Original array:\")\n",
    "print(x)\n",
    "#reshape the array to 4 by 5\n",
    "x1=x.reshape(4,5)\n",
    "print(\"Reshaped Array: \")\n",
    "print(x1)\n",
    "#replace the max in each row by 0\n",
    "x1[np.arange(len(x1)), x1.argmax(1)]=0\n",
    "print(\"Maximum value replaced by 0:\")\n",
    "print(x1)"
   ]
  },
  {
   "cell_type": "code",
   "execution_count": null,
   "id": "9f4b2972-24c2-4de2-bf45-a06839ad2af3",
   "metadata": {},
   "outputs": [],
   "source": []
  }
 ],
 "metadata": {
  "kernelspec": {
   "display_name": "Python 3 (ipykernel)",
   "language": "python",
   "name": "python3"
  },
  "language_info": {
   "codemirror_mode": {
    "name": "ipython",
    "version": 3
   },
   "file_extension": ".py",
   "mimetype": "text/x-python",
   "name": "python",
   "nbconvert_exporter": "python",
   "pygments_lexer": "ipython3",
   "version": "3.12.1"
  }
 },
 "nbformat": 4,
 "nbformat_minor": 5
}
